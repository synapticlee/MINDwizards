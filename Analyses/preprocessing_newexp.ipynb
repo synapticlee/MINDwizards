{
 "cells": [
  {
   "cell_type": "code",
   "execution_count": 1,
   "metadata": {},
   "outputs": [],
   "source": [
    "import os\n",
    "import numpy as np\n",
    "import pandas as pd\n",
    "import matplotlib.pyplot as plt\n",
    "from scipy.stats import linregress\n",
    "import scipy as sp"
   ]
  },
  {
   "cell_type": "code",
   "execution_count": 2,
   "metadata": {},
   "outputs": [],
   "source": [
    "# get the list of subjects\n",
    "subList = []\n",
    "dataFolder = '../Data_equalWeights/'\n",
    "allFileNames = os.listdir(dataFolder)\n",
    "for fileName in allFileNames:\n",
    "    if fileName.startswith('wizard_gems_data'):\n",
    "        subList.append(fileName[17:17+15])"
   ]
  },
  {
   "cell_type": "code",
   "execution_count": 3,
   "metadata": {},
   "outputs": [],
   "source": [
    "colNames = ['sub','NTrials','iTrial','correct_response', 'response'] + ['bars'+str(i) for i in np.arange(5)+1] + ['weights'+str(i) for i in np.arange(5)+1] + ['condition', 'RT']"
   ]
  },
  {
   "cell_type": "code",
   "execution_count": 4,
   "metadata": {},
   "outputs": [],
   "source": [
    "data = pd.DataFrame()\n",
    "\n",
    "for iSub, sub in enumerate(subList):\n",
    "    dataSub = pd.read_csv(dataFolder+'wizard_gems_data_'+sub+'_2019-08-10.csv')\n",
    "    dataSub = dataSub[dataSub['trial_type'] == 'wizard-gem-trial'].copy().reset_index(drop=True)\n",
    "    dataSub['sub'] = iSub+1\n",
    "    dataSub['NTrials']= dataSub.shape[0]\n",
    "    dataSub['iTrial']= np.arange(dataSub.shape[0])+1\n",
    "    dataSub['correct_response'] = dataSub['correct_answer']\n",
    "    dataSub['RT'] = dataSub['rt']\n",
    "    dataSub['condition'] = 1\n",
    "    \n",
    "    for iRow in range(dataSub.shape[0]):\n",
    "        gem_values_str = dataSub.loc[iRow, 'gem_values'][1:-1]\n",
    "        locComma = [-1]\n",
    "        for i, char in enumerate(gem_values_str):\n",
    "            if char == ',':\n",
    "                locComma.append(i)\n",
    "        locComma.append(len(gem_values_str))\n",
    "        for iBar in range(5):\n",
    "            dataSub.loc[iRow, 'bars'+str(iBar+1)] = int(gem_values_str[locComma[iBar]+1:locComma[iBar+1]])\n",
    "            \n",
    "        gem_weights_str = dataSub.loc[iRow, 'gem_weights'][1:-1]\n",
    "        locComma = [-1]\n",
    "        for i, char in enumerate(gem_weights_str):\n",
    "            if char == ',':\n",
    "                locComma.append(i)\n",
    "        locComma.append(len(gem_weights_str))\n",
    "        for iBar in range(5):\n",
    "            dataSub.loc[iRow, 'weights'+str(iBar+1)] = float(gem_weights_str[locComma[iBar]+1:locComma[iBar+1]])\n",
    "    \n",
    "    dataSub = dataSub[colNames]\n",
    "    dataSub.to_csv(dataFolder+'preprocessed_data_'+sub+'_2019-08-10.csv',index=None)\n",
    "    \n",
    "    data = data.append(dataSub)"
   ]
  },
  {
   "cell_type": "code",
   "execution_count": 5,
   "metadata": {},
   "outputs": [],
   "source": [
    "data.to_csv(dataFolder+'preprocessed_dataAll_2019-08-10.csv',index=None)"
   ]
  }
 ],
 "metadata": {
  "jupytext": {
   "cell_metadata_filter": "all",
   "notebook_metadata_filter": "all",
   "text_representation": {
    "extension": ".py",
    "format_name": "percent",
    "format_version": "1.2",
    "jupytext_version": "1.2.1"
   }
  },
  "kernelspec": {
   "display_name": "Python 3",
   "language": "python",
   "name": "python3"
  },
  "language_info": {
   "codemirror_mode": {
    "name": "ipython",
    "version": 3
   },
   "file_extension": ".py",
   "mimetype": "text/x-python",
   "name": "python",
   "nbconvert_exporter": "python",
   "pygments_lexer": "ipython3",
   "version": "3.7.3"
  }
 },
 "nbformat": 4,
 "nbformat_minor": 2
}
